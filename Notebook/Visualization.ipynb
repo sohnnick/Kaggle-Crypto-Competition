{
 "cells": [
  {
   "cell_type": "code",
   "execution_count": 1,
   "id": "48d69941",
   "metadata": {},
   "outputs": [],
   "source": [
    "import pandas as pd\n",
    "import numpy as np\n",
    "import datetime\n",
    "from datetime import timedelta, datetime\n",
    "from tqdm import tqdm\n",
    "import matplotlib.pyplot as plt\n",
    "import plotly.graph_objects as go\n",
    "import seaborn as sns\n",
    "import glob"
   ]
  },
  {
   "cell_type": "code",
   "execution_count": 2,
   "id": "b4e97a5d",
   "metadata": {},
   "outputs": [],
   "source": [
    "from __future__ import print_function\n",
    "from ipywidgets import interact, interactive, fixed, interact_manual\n",
    "import ipywidgets as widgets"
   ]
  },
  {
   "cell_type": "markdown",
   "id": "c908d0a8",
   "metadata": {},
   "source": [
    "# Functions"
   ]
  },
  {
   "cell_type": "code",
   "execution_count": 3,
   "id": "7eb6f18c",
   "metadata": {},
   "outputs": [],
   "source": [
    "def print_visualizations(coin):\n",
    "    # read\n",
    "    df = pd.read_csv('../Data/partitioned_coins/' + coin + '.csv').drop('Unnamed: 0', axis=1)\n",
    "    \n",
    "    # print closing price last 200 min\n",
    "    len_df = len(df)\n",
    "    df_filt = df[len_df-200:]\n",
    "    date_time = [datetime.fromtimestamp(x) for x in df_filt['timestamp']]\n",
    "    \n",
    "    plt.figure(figsize=(8,4))\n",
    "    plt.plot(date_time, list(df_filt['Close']))\n",
    "    plt.xlabel('Date')\n",
    "    plt.ylabel(coin+' Close ($)')\n",
    "    plt.title(coin+' Price, Last 200 Minutes')\n",
    "    plt.show()\n",
    "    \n",
    "    # print candlesticks last 200 min\n",
    "    fig = go.Figure(data=[go.Candlestick(x=df_filt.Datetime, \n",
    "                                     open=df_filt['Open'], high=df_filt['High'], \n",
    "                                     low=df_filt['Low'], close=df_filt['Close'])])\n",
    "    fig.update_xaxes(title_text=\"$\")\n",
    "    fig.update_yaxes(title_text=\"Time\")\n",
    "    fig.update_layout(title=coin+\" Price, 200 Last Minutes\")\n",
    "    fig.show()\n",
    "    \n",
    "    # correlation\n",
    "    sns.heatmap(df[['Open', 'High', 'Low', 'Close', 'Volume', 'VWAP', 'Target']].corr(), \n",
    "            annot=True, cmap=plt.cm.Reds)"
   ]
  },
  {
   "cell_type": "markdown",
   "id": "fdae77c9",
   "metadata": {},
   "source": [
    "# Extract File Names"
   ]
  },
  {
   "cell_type": "code",
   "execution_count": 4,
   "id": "8a1a5812",
   "metadata": {},
   "outputs": [],
   "source": [
    "files = glob.glob(\"../Data/partitioned_coins/*\")\n",
    "files = [x.replace('../Data/partitioned_coins/', '') for x in files]\n",
    "files = [x.replace('.csv', '') for x in files]"
   ]
  },
  {
   "cell_type": "markdown",
   "id": "9ecf4745",
   "metadata": {},
   "source": [
    "# Print"
   ]
  },
  {
   "cell_type": "code",
   "execution_count": 5,
   "id": "8b3d9f5f",
   "metadata": {
    "scrolled": false
   },
   "outputs": [
    {
     "data": {
      "application/vnd.jupyter.widget-view+json": {
       "model_id": "53b9719d4d184b709d8f19bac91f2ce0",
       "version_major": 2,
       "version_minor": 0
      },
      "text/plain": [
       "interactive(children=(Dropdown(description='coin', options=('IOTA', 'EOS.IO', 'Bitcoin Cash', 'Monero', 'Ether…"
      ]
     },
     "metadata": {},
     "output_type": "display_data"
    },
    {
     "data": {
      "text/plain": [
       "<function __main__.print_visualizations(coin)>"
      ]
     },
     "execution_count": 5,
     "metadata": {},
     "output_type": "execute_result"
    }
   ],
   "source": [
    "interact(print_visualizations, coin=files)"
   ]
  },
  {
   "cell_type": "code",
   "execution_count": null,
   "id": "a97384b7",
   "metadata": {},
   "outputs": [],
   "source": []
  }
 ],
 "metadata": {
  "kernelspec": {
   "display_name": "Python 3",
   "language": "python",
   "name": "python3"
  },
  "language_info": {
   "codemirror_mode": {
    "name": "ipython",
    "version": 3
   },
   "file_extension": ".py",
   "mimetype": "text/x-python",
   "name": "python",
   "nbconvert_exporter": "python",
   "pygments_lexer": "ipython3",
   "version": "3.7.4"
  }
 },
 "nbformat": 4,
 "nbformat_minor": 5
}
