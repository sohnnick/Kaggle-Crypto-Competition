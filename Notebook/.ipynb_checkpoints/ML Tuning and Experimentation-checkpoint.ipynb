{
 "cells": [
  {
   "cell_type": "code",
   "execution_count": 109,
   "id": "6ded453e",
   "metadata": {},
   "outputs": [],
   "source": [
    "import xgboost as xgb\n",
    "from xgboost import plot_importance\n",
    "import pandas as pd\n",
    "import numpy as np\n",
    "import sklearn\n",
    "from sklearn.model_selection import GridSearchCV, RandomizedSearchCV\n",
    "from sklearn.metrics import mean_squared_error\n",
    "from sklearn.preprocessing import MinMaxScaler, OneHotEncoder\n",
    "import glob\n",
    "import os\n",
    "from tqdm import tqdm\n",
    "from scipy.stats import pearsonr\n",
    "from sklearn.linear_model import LinearRegression\n",
    "from sklearn.ensemble import RandomForestRegressor\n",
    "import matplotlib.pyplot as plt\n",
    "# import gresearch_crypto"
   ]
  },
  {
   "cell_type": "code",
   "execution_count": 85,
   "id": "62cfa582",
   "metadata": {},
   "outputs": [],
   "source": [
    "# env = gresearch_crypto.make_env()"
   ]
  },
  {
   "cell_type": "code",
   "execution_count": 86,
   "id": "5ce054e9",
   "metadata": {},
   "outputs": [],
   "source": [
    "# for dirname, _, filenames in os.walk('/kaggle/input'):\n",
    "#     for filename in filenames:\n",
    "#         print(os.path.join(dirname, filename))"
   ]
  },
  {
   "cell_type": "markdown",
   "id": "7c99a40d",
   "metadata": {},
   "source": [
    "# <span style='color: blue'> Read </span>"
   ]
  },
  {
   "cell_type": "code",
   "execution_count": 87,
   "id": "69d1e01d",
   "metadata": {},
   "outputs": [],
   "source": [
    "df_all = pd.read_csv('../Data/raw/train.csv')"
   ]
  },
  {
   "cell_type": "code",
   "execution_count": 88,
   "id": "f5c14b94",
   "metadata": {},
   "outputs": [],
   "source": [
    "df_test = pd.read_csv('../Data/raw/supplemental_train.csv').sample(20000, random_state=42)"
   ]
  },
  {
   "cell_type": "markdown",
   "id": "853a053f",
   "metadata": {},
   "source": [
    "# <span style='color: blue'> Preprocessing </span>"
   ]
  },
  {
   "cell_type": "code",
   "execution_count": 89,
   "id": "b537152d",
   "metadata": {},
   "outputs": [],
   "source": [
    "# not null\n",
    "df_test = df_test[df_test['Target'].notnull()]\n",
    "df_all = df_all[df_all['Target'].notnull()]\n",
    "df_all = df_all[(df_all['VWAP'] != -np.inf) & (df_all['VWAP'] != np.inf)]\n",
    "df_all = df_all[df_all['VWAP'].notnull()]"
   ]
  },
  {
   "cell_type": "code",
   "execution_count": 90,
   "id": "2fa3c5f8",
   "metadata": {},
   "outputs": [],
   "source": [
    "# get unique assets\n",
    "unique_assets = df_all['Asset_ID'].unique()\n",
    "unique_assets.sort()"
   ]
  },
  {
   "cell_type": "markdown",
   "id": "e59bc713",
   "metadata": {},
   "source": [
    "### Sample"
   ]
  },
  {
   "cell_type": "code",
   "execution_count": 91,
   "id": "207d4aad",
   "metadata": {},
   "outputs": [
    {
     "name": "stderr",
     "output_type": "stream",
     "text": [
      "100%|██████████| 14/14 [00:09<00:00,  1.47it/s]\n"
     ]
    }
   ],
   "source": [
    "dfs_reduced = []\n",
    "for i in tqdm(unique_assets):\n",
    "    asset_type = df_all[df_all['Asset_ID'] == i].sort_values('timestamp')\n",
    "    dfs_reduced.append(asset_type.sample(100000, random_state=42))"
   ]
  },
  {
   "cell_type": "code",
   "execution_count": 92,
   "id": "33a1815c",
   "metadata": {},
   "outputs": [],
   "source": [
    "df_reduced = pd.concat(dfs_reduced)"
   ]
  },
  {
   "cell_type": "markdown",
   "id": "c6ac45b5",
   "metadata": {},
   "source": [
    "### One-Hot Encode"
   ]
  },
  {
   "cell_type": "code",
   "execution_count": 93,
   "id": "bba91682",
   "metadata": {},
   "outputs": [],
   "source": [
    "encoder = OneHotEncoder(categories = 'auto')\n",
    "np_train = np.array(df_reduced['Asset_ID']).reshape(-1,1)\n",
    "np_test = np.array(df_test['Asset_ID']).reshape(-1,1)\n",
    "\n",
    "encoder.fit(np_train)\n",
    "asset_cols = list(encoder.categories_[0])"
   ]
  },
  {
   "cell_type": "code",
   "execution_count": 94,
   "id": "4d733b36",
   "metadata": {},
   "outputs": [],
   "source": [
    "# transform training set\n",
    "encoded_train = encoder.transform(np_train).toarray()\n",
    "df_encoded_train = pd.DataFrame(encoded_train, columns=asset_cols)\n",
    "\n",
    "# transform test set\n",
    "encoded_test = encoder.transform(np_test).toarray()\n",
    "df_encoded_test = pd.DataFrame(encoded_test, columns=asset_cols)"
   ]
  },
  {
   "cell_type": "markdown",
   "id": "589a3f1d",
   "metadata": {},
   "source": [
    "### Min-Max Scaler"
   ]
  },
  {
   "cell_type": "code",
   "execution_count": 95,
   "id": "7acdd489",
   "metadata": {},
   "outputs": [],
   "source": [
    "feats = ['Open', 'Close', 'High', 'Low', 'Volume', 'VWAP']"
   ]
  },
  {
   "cell_type": "code",
   "execution_count": 96,
   "id": "55e57ef3",
   "metadata": {},
   "outputs": [
    {
     "data": {
      "text/plain": [
       "MinMaxScaler()"
      ]
     },
     "execution_count": 96,
     "metadata": {},
     "output_type": "execute_result"
    }
   ],
   "source": [
    "scaler = MinMaxScaler()\n",
    "scaler.fit(df_reduced[feats])"
   ]
  },
  {
   "cell_type": "code",
   "execution_count": 97,
   "id": "a3675e6c",
   "metadata": {},
   "outputs": [],
   "source": [
    "df_train_transformed = pd.DataFrame(scaler.transform(df_reduced[feats]), columns = feats)\n",
    "df_test_transformed = pd.DataFrame(scaler.transform(df_test[feats]), columns = feats)"
   ]
  },
  {
   "cell_type": "markdown",
   "id": "c6b832c6",
   "metadata": {},
   "source": [
    "### Concat"
   ]
  },
  {
   "cell_type": "code",
   "execution_count": 98,
   "id": "d486af4b",
   "metadata": {},
   "outputs": [],
   "source": [
    "df_train_pro = pd.concat([df_encoded_train.reset_index(drop=True), \n",
    "                          df_train_transformed.reset_index(drop=True), \n",
    "                          df_reduced['Target'].reset_index(drop=True)], axis=1)\n",
    "\n",
    "df_test_pro = pd.concat([df_encoded_test.reset_index(drop=True), \n",
    "                         df_test_transformed.reset_index(drop=True),\n",
    "                         df_test['Target'].reset_index(drop=True)], axis=1)"
   ]
  },
  {
   "cell_type": "markdown",
   "id": "d0b9118f",
   "metadata": {},
   "source": [
    "# <span style='color: blue'> Split X and Y </span>"
   ]
  },
  {
   "cell_type": "code",
   "execution_count": 99,
   "id": "614cd64e",
   "metadata": {},
   "outputs": [],
   "source": [
    "x_train = df_train_pro[asset_cols + feats]\n",
    "y_train = df_train_pro['Target']\n",
    "\n",
    "x_test = df_test_pro[asset_cols + feats]\n",
    "y_test = df_test_pro['Target']"
   ]
  },
  {
   "cell_type": "markdown",
   "id": "f7048e53",
   "metadata": {},
   "source": [
    "# <span style='color: blue'> Base Model </span>"
   ]
  },
  {
   "cell_type": "code",
   "execution_count": 79,
   "id": "9e46c839",
   "metadata": {},
   "outputs": [],
   "source": [
    "xgb_reg = xgb.XGBRegressor(objective= \"reg:squarederror\")"
   ]
  },
  {
   "cell_type": "code",
   "execution_count": 80,
   "id": "c451b44c",
   "metadata": {},
   "outputs": [
    {
     "data": {
      "text/plain": [
       "XGBRegressor(base_score=0.5, booster='gbtree', colsample_bylevel=1,\n",
       "             colsample_bynode=1, colsample_bytree=1, gamma=0, gpu_id=-1,\n",
       "             importance_type='gain', interaction_constraints='',\n",
       "             learning_rate=0.300000012, max_delta_step=0, max_depth=6,\n",
       "             min_child_weight=1, missing=nan, monotone_constraints='()',\n",
       "             n_estimators=100, n_jobs=4, num_parallel_tree=1, random_state=0,\n",
       "             reg_alpha=0, reg_lambda=1, scale_pos_weight=1, subsample=1,\n",
       "             tree_method='exact', validate_parameters=1, verbosity=None)"
      ]
     },
     "execution_count": 80,
     "metadata": {},
     "output_type": "execute_result"
    }
   ],
   "source": [
    "xgb_reg.fit(x_train, y_train)"
   ]
  },
  {
   "cell_type": "code",
   "execution_count": 81,
   "id": "49602e03",
   "metadata": {},
   "outputs": [],
   "source": [
    "pred = xgb_reg.predict(x_test)"
   ]
  },
  {
   "cell_type": "code",
   "execution_count": 82,
   "id": "327dc8f8",
   "metadata": {},
   "outputs": [
    {
     "name": "stdout",
     "output_type": "stream",
     "text": [
      "Correlation Score: 0.021824504058339522\n",
      "RMSE: 0.004426630693329437\n"
     ]
    }
   ],
   "source": [
    "corr, _ = pearsonr(pred, y_test)\n",
    "print('Correlation Score:', corr)\n",
    "\n",
    "rmse = mean_squared_error(pred, y_test, squared=False)\n",
    "print('RMSE:', rmse)"
   ]
  },
  {
   "cell_type": "code",
   "execution_count": 102,
   "id": "9bbbc51b",
   "metadata": {},
   "outputs": [
    {
     "data": {
      "text/plain": [
       "<AxesSubplot:title={'center':'Feature importance'}, xlabel='F score', ylabel='Features'>"
      ]
     },
     "execution_count": 102,
     "metadata": {},
     "output_type": "execute_result"
    },
    {
     "data": {
      "image/png": "[encoded data removed]",
      "text/plain": [
       "<Figure size 432x288 with 1 Axes>"
      ]
     },
     "metadata": {
      "needs_background": "light"
     },
     "output_type": "display_data"
    }
   ],
   "source": [
    "plot_importance(xgb_reg)"
   ]
  },
  {
   "cell_type": "markdown",
   "id": "539fb8ec",
   "metadata": {},
   "source": [
    "# <span style='color: blue'> Hyparameter Tuning </span>"
   ]
  },
  {
   "cell_type": "code",
   "execution_count": null,
   "id": "a5c57758",
   "metadata": {},
   "outputs": [],
   "source": [
    "parameters = {\n",
    "    \"learning_rate\": [0.01, 0.1, 0.2, 0.5] ,\n",
    "    \"max_depth\": [3, 4, 5, 6, 8, 12, 15, 18],\n",
    "    \"min_child_weight\": [1, 3, 5, 7],\n",
    "    \"colsample_bytree\" : [0.3, 0.4, 0.5 , 0.7, 1],\n",
    "    'reg_lambda': [0.1, 1.0, 5.0, 10.0, 50.0]\n",
    "}"
   ]
  },
  {
   "cell_type": "code",
   "execution_count": null,
   "id": "1272da3c",
   "metadata": {},
   "outputs": [],
   "source": [
    "searchcv = RandomizedSearchCV(estimator=xgb_reg, param_distributions=parameters, scoring='neg_mean_squared_error',\n",
    "                    cv=3, n_jobs=-1)"
   ]
  },
  {
   "cell_type": "code",
   "execution_count": 331,
   "id": "e8353c63",
   "metadata": {},
   "outputs": [
    {
     "data": {
      "text/plain": [
       "RandomizedSearchCV(cv=3,\n",
       "                   estimator=XGBRegressor(base_score=0.5, booster='gbtree',\n",
       "                                          colsample_bylevel=1,\n",
       "                                          colsample_bynode=1,\n",
       "                                          colsample_bytree=1, gamma=0,\n",
       "                                          gpu_id=-1, importance_type='gain',\n",
       "                                          interaction_constraints='',\n",
       "                                          learning_rate=0.300000012,\n",
       "                                          max_delta_step=0, max_depth=6,\n",
       "                                          min_child_weight=1, missing=nan,\n",
       "                                          monotone_constraints='()',\n",
       "                                          n_estimators=100, n_jobs=4,\n",
       "                                          num_par...\n",
       "                                          reg_alpha=0, reg_lambda=1,\n",
       "                                          scale_pos_weight=1, subsample=1,\n",
       "                                          tree_method='exact',\n",
       "                                          validate_parameters=1,\n",
       "                                          verbosity=None),\n",
       "                   n_jobs=-1,\n",
       "                   param_distributions={'colsample_bytree': [0.3, 0.4, 0.5, 0.7,\n",
       "                                                             1],\n",
       "                                        'learning_rate': [0.01, 0.1, 0.2, 0.5],\n",
       "                                        'max_depth': [3, 4, 5, 6, 8, 12, 15,\n",
       "                                                      18],\n",
       "                                        'min_child_weight': [1, 3, 5, 7],\n",
       "                                        'reg_lambda': [0.1, 1.0, 5.0, 10.0,\n",
       "                                                       50.0]},\n",
       "                   scoring='neg_mean_squared_error')"
      ]
     },
     "execution_count": 331,
     "metadata": {},
     "output_type": "execute_result"
    }
   ],
   "source": [
    "searchcv.fit(x_train, y_train)"
   ]
  },
  {
   "cell_type": "code",
   "execution_count": 332,
   "id": "6ab6dc33",
   "metadata": {},
   "outputs": [],
   "source": [
    "pred = searchcv.predict(x_test)"
   ]
  },
  {
   "cell_type": "code",
   "execution_count": 333,
   "id": "c31fec9c",
   "metadata": {},
   "outputs": [
    {
     "name": "stdout",
     "output_type": "stream",
     "text": [
      "Correlation Score: 0.00982787014886271\n",
      "RMSE: 0.004429274965292405\n"
     ]
    }
   ],
   "source": [
    "corr, _ = pearsonr(pred, y_test)\n",
    "print('Correlation Score:', corr)\n",
    "\n",
    "rmse = mean_squared_error(pred, y_test, squared=False)\n",
    "print('RMSE:', rmse)"
   ]
  },
  {
   "cell_type": "markdown",
   "id": "c5fe9595",
   "metadata": {},
   "source": [
    "# <span style='color: blue'> Linear Regression </span>"
   ]
  },
  {
   "cell_type": "code",
   "execution_count": 103,
   "id": "416d8e8c",
   "metadata": {},
   "outputs": [
    {
     "name": "stdout",
     "output_type": "stream",
     "text": [
      "Correlation Score: 0.0075802195622147826\n",
      "RMSE: 0.004426595713028357\n"
     ]
    }
   ],
   "source": [
    "# absolute poop model\n",
    "lr_model = LinearRegression()\n",
    "lr_model.fit(x_train, y_train)\n",
    "pred = lr_model.predict(x_test)\n",
    "\n",
    "corr, _ = pearsonr(pred, y_test)\n",
    "print('Correlation Score:', corr)\n",
    "\n",
    "rmse = mean_squared_error(pred, y_test, squared=False)\n",
    "print('RMSE:', rmse)"
   ]
  },
  {
   "cell_type": "markdown",
   "id": "3e866979",
   "metadata": {},
   "source": [
    "# <span style='color: blue'> Submit </span>"
   ]
  },
  {
   "cell_type": "code",
   "execution_count": 19,
   "id": "7925fea5",
   "metadata": {},
   "outputs": [],
   "source": [
    "# iter_test = env.iter_test()"
   ]
  },
  {
   "cell_type": "code",
   "execution_count": 20,
   "id": "6a35c267",
   "metadata": {},
   "outputs": [],
   "source": [
    "# for (test_df, sample_prediction_df) in iter_test:\n",
    "#     sample_prediction_df['Target'] = xgb_reg.predict(test_df[['Asset_ID', 'Open', 'Close', 'High', \n",
    "#                                                               'Low', 'Volume', 'VWAP']])\n",
    "#     env.predict(sample_prediction_df)"
   ]
  }
 ],
 "metadata": {
  "kernelspec": {
   "display_name": "Python 3",
   "language": "python",
   "name": "python3"
  },
  "language_info": {
   "codemirror_mode": {
    "name": "ipython",
    "version": 3
   },
   "file_extension": ".py",
   "mimetype": "text/x-python",
   "name": "python",
   "nbconvert_exporter": "python",
   "pygments_lexer": "ipython3",
   "version": "3.7.4"
  }
 },
 "nbformat": 4,
 "nbformat_minor": 5
}
