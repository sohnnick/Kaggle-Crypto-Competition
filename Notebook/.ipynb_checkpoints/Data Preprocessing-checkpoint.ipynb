{
 "cells": [
  {
   "cell_type": "code",
   "execution_count": 36,
   "id": "7a3ade1e",
   "metadata": {},
   "outputs": [],
   "source": [
    "import pandas as pd\n",
    "import numpy as np\n",
    "import datetime\n",
    "from datetime import timedelta, datetime\n",
    "from tqdm import tqdm"
   ]
  },
  {
   "cell_type": "markdown",
   "id": "88d0d246",
   "metadata": {},
   "source": [
    "# Read Data"
   ]
  },
  {
   "cell_type": "code",
   "execution_count": 4,
   "id": "f949498c",
   "metadata": {},
   "outputs": [],
   "source": [
    "df_assets = pd.read_csv('../Data/raw/asset_details.csv')\n",
    "df_train = pd.read_csv('../Data/raw/train.csv')\n",
    "df_train_supp = pd.read_csv('../Data/raw/supplemental_train.csv')\n",
    "df_test = pd.read_csv('../Data/raw/example_test.csv')"
   ]
  },
  {
   "cell_type": "code",
   "execution_count": 26,
   "id": "2173589b",
   "metadata": {},
   "outputs": [],
   "source": [
    "df_train['Datetime'] = df_train['timestamp'].apply(lambda x: datetime.fromtimestamp(x))"
   ]
  },
  {
   "cell_type": "markdown",
   "id": "480234dc",
   "metadata": {},
   "source": [
    "# Partition and Write Data"
   ]
  },
  {
   "cell_type": "code",
   "execution_count": 37,
   "id": "df847743",
   "metadata": {},
   "outputs": [
    {
     "name": "stderr",
     "output_type": "stream",
     "text": [
      "100%|██████████| 14/14 [05:26<00:00, 23.32s/it]\n"
     ]
    }
   ],
   "source": [
    "list_of_ids = list(df_assets['Asset_ID'])\n",
    "list_of_ids.sort()\n",
    "\n",
    "df_train_dict = {}\n",
    "for asset_id in tqdm(list_of_ids):\n",
    "    coin = df_assets[df_assets['Asset_ID'] == asset_id]['Asset_Name'].values[0]\n",
    "    path = '../Data/partitioned_coins/'\n",
    "    file_name = coin + '.csv'\n",
    "    \n",
    "    df_filtered = df_train[df_train['Asset_ID'] == asset_id]\n",
    "    df_filtered.to_csv(path+file_name)\n",
    "    \n",
    "    df_train_dict[coin] = df_filtered"
   ]
  },
  {
   "cell_type": "code",
   "execution_count": null,
   "id": "77d0a313",
   "metadata": {},
   "outputs": [],
   "source": []
  }
 ],
 "metadata": {
  "kernelspec": {
   "display_name": "Python 3",
   "language": "python",
   "name": "python3"
  },
  "language_info": {
   "codemirror_mode": {
    "name": "ipython",
    "version": 3
   },
   "file_extension": ".py",
   "mimetype": "text/x-python",
   "name": "python",
   "nbconvert_exporter": "python",
   "pygments_lexer": "ipython3",
   "version": "3.7.4"
  }
 },
 "nbformat": 4,
 "nbformat_minor": 5
}
