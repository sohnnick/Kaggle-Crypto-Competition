{
 "cells": [
  {
   "cell_type": "code",
   "execution_count": 1,
   "id": "48d69941",
   "metadata": {},
   "outputs": [
    {
     "name": "stderr",
     "output_type": "stream",
     "text": [
      "/opt/anaconda3/lib/python3.7/site-packages/mpl_finance.py:22: DeprecationWarning: \n",
      "\n",
      "  =================================================================\n",
      "\n",
      "   WARNING: `mpl_finance` is deprecated:\n",
      "\n",
      "    Please use `mplfinance` instead (no hyphen, no underscore).\n",
      "\n",
      "    To install: `pip install --upgrade mplfinance` \n",
      "\n",
      "   For more information, see: https://pypi.org/project/mplfinance/\n",
      "\n",
      "  =================================================================\n",
      "\n",
      "  category=DeprecationWarning)\n"
     ]
    }
   ],
   "source": [
    "import pandas as pd\n",
    "import numpy as np\n",
    "import datetime\n",
    "from datetime import timedelta, datetime\n",
    "from tqdm import tqdm\n",
    "import matplotlib.pyplot as plt\n",
    "import plotly.graph_objects as go"
   ]
  },
  {
   "cell_type": "markdown",
   "id": "1647b9a1",
   "metadata": {},
   "source": [
    "# Extract Data"
   ]
  },
  {
   "cell_type": "code",
   "execution_count": 2,
   "id": "785ea474",
   "metadata": {},
   "outputs": [],
   "source": [
    "df_ethereum = pd.read_csv('../Data/partitioned_coins/Ethereum.csv').drop('Unnamed: 0', axis=1)"
   ]
  },
  {
   "cell_type": "markdown",
   "id": "4036dfae",
   "metadata": {},
   "source": [
    "# Ethereum (Last 200 Minutes)"
   ]
  },
  {
   "cell_type": "code",
   "execution_count": 3,
   "id": "fb1125a9",
   "metadata": {},
   "outputs": [
    {
     "data": {
      "text/html": [
       "<div>\n",
       "<style scoped>\n",
       "    .dataframe tbody tr th:only-of-type {\n",
       "        vertical-align: middle;\n",
       "    }\n",
       "\n",
       "    .dataframe tbody tr th {\n",
       "        vertical-align: top;\n",
       "    }\n",
       "\n",
       "    .dataframe thead th {\n",
       "        text-align: right;\n",
       "    }\n",
       "</style>\n",
       "<table border=\"1\" class=\"dataframe\">\n",
       "  <thead>\n",
       "    <tr style=\"text-align: right;\">\n",
       "      <th></th>\n",
       "      <th>timestamp</th>\n",
       "      <th>Asset_ID</th>\n",
       "      <th>Count</th>\n",
       "      <th>Open</th>\n",
       "      <th>High</th>\n",
       "      <th>Low</th>\n",
       "      <th>Close</th>\n",
       "      <th>Volume</th>\n",
       "      <th>VWAP</th>\n",
       "      <th>Target</th>\n",
       "      <th>Datetime</th>\n",
       "    </tr>\n",
       "  </thead>\n",
       "  <tbody>\n",
       "    <tr>\n",
       "      <th>0</th>\n",
       "      <td>1514764860</td>\n",
       "      <td>6</td>\n",
       "      <td>173.0</td>\n",
       "      <td>738.3025</td>\n",
       "      <td>746.00</td>\n",
       "      <td>732.51</td>\n",
       "      <td>738.5075</td>\n",
       "      <td>335.987856</td>\n",
       "      <td>738.839291</td>\n",
       "      <td>-0.004809</td>\n",
       "      <td>2017-12-31 16:01:00</td>\n",
       "    </tr>\n",
       "    <tr>\n",
       "      <th>1</th>\n",
       "      <td>1514764920</td>\n",
       "      <td>6</td>\n",
       "      <td>192.0</td>\n",
       "      <td>738.5075</td>\n",
       "      <td>745.14</td>\n",
       "      <td>732.49</td>\n",
       "      <td>738.2600</td>\n",
       "      <td>232.793141</td>\n",
       "      <td>738.268967</td>\n",
       "      <td>-0.004441</td>\n",
       "      <td>2017-12-31 16:02:00</td>\n",
       "    </tr>\n",
       "    <tr>\n",
       "      <th>2</th>\n",
       "      <td>1514764980</td>\n",
       "      <td>6</td>\n",
       "      <td>120.0</td>\n",
       "      <td>738.3325</td>\n",
       "      <td>745.12</td>\n",
       "      <td>730.00</td>\n",
       "      <td>737.5025</td>\n",
       "      <td>174.138031</td>\n",
       "      <td>737.994457</td>\n",
       "      <td>-0.004206</td>\n",
       "      <td>2017-12-31 16:03:00</td>\n",
       "    </tr>\n",
       "  </tbody>\n",
       "</table>\n",
       "</div>"
      ],
      "text/plain": [
       "    timestamp  Asset_ID  Count      Open    High     Low     Close  \\\n",
       "0  1514764860         6  173.0  738.3025  746.00  732.51  738.5075   \n",
       "1  1514764920         6  192.0  738.5075  745.14  732.49  738.2600   \n",
       "2  1514764980         6  120.0  738.3325  745.12  730.00  737.5025   \n",
       "\n",
       "       Volume        VWAP    Target             Datetime  \n",
       "0  335.987856  738.839291 -0.004809  2017-12-31 16:01:00  \n",
       "1  232.793141  738.268967 -0.004441  2017-12-31 16:02:00  \n",
       "2  174.138031  737.994457 -0.004206  2017-12-31 16:03:00  "
      ]
     },
     "execution_count": 3,
     "metadata": {},
     "output_type": "execute_result"
    }
   ],
   "source": [
    "df_ethereum.head(3)"
   ]
  },
  {
   "cell_type": "code",
   "execution_count": 4,
   "id": "b5f8aa50",
   "metadata": {},
   "outputs": [
    {
     "ename": "NameError",
     "evalue": "name 'len_df' is not defined",
     "output_type": "error",
     "traceback": [
      "\u001b[0;31m---------------------------------------------------------------------------\u001b[0m",
      "\u001b[0;31mNameError\u001b[0m                                 Traceback (most recent call last)",
      "\u001b[0;32m<ipython-input-4-4efdd9cda67d>\u001b[0m in \u001b[0;36m<module>\u001b[0;34m\u001b[0m\n\u001b[0;32m----> 1\u001b[0;31m \u001b[0mdf_ethereum_filt\u001b[0m \u001b[0;34m=\u001b[0m \u001b[0mdf_ethereum\u001b[0m\u001b[0;34m[\u001b[0m\u001b[0mlen_df\u001b[0m\u001b[0;34m-\u001b[0m\u001b[0;36m200\u001b[0m\u001b[0;34m:\u001b[0m\u001b[0;34m]\u001b[0m\u001b[0;34m\u001b[0m\u001b[0;34m\u001b[0m\u001b[0m\n\u001b[0m",
      "\u001b[0;31mNameError\u001b[0m: name 'len_df' is not defined"
     ]
    }
   ],
   "source": [
    "df_ethereum_filt = df_ethereum[len_df-200:]"
   ]
  },
  {
   "cell_type": "code",
   "execution_count": null,
   "id": "62dc2630",
   "metadata": {},
   "outputs": [],
   "source": [
    "datetime = list(df_ethereum_filt['timestamp'].apply(lambda x: datetime.fromtimestamp(x)))"
   ]
  },
  {
   "cell_type": "code",
   "execution_count": null,
   "id": "443dc4a6",
   "metadata": {},
   "outputs": [],
   "source": [
    "plt.figure(figsize=(10,6))\n",
    "plt.plot(datetime, list(df_ethereum_filt['Close']))\n",
    "plt.xlabel('Date')\n",
    "plt.ylabel('Ethereum Close ($)')"
   ]
  },
  {
   "cell_type": "code",
   "execution_count": null,
   "id": "0e79c71a",
   "metadata": {
    "scrolled": false
   },
   "outputs": [],
   "source": [
    "fig = go.Figure(data=[go.Candlestick(x=df_ethereum_filt.Datetime, \n",
    "                                     open=df_ethereum_filt['Open'], high=df_ethereum_filt['High'], \n",
    "                                     low=df_ethereum_filt['Low'], close=df_ethereum_filt['Close'])])\n",
    "fig.update_xaxes(title_text=\"$\")\n",
    "fig.update_yaxes(title_text=\"Time\")\n",
    "fig.update_layout(title=\"Ethereum Price, 200 Last Minutes\")\n",
    "fig.show()"
   ]
  },
  {
   "cell_type": "code",
   "execution_count": null,
   "id": "b2fa2855",
   "metadata": {},
   "outputs": [],
   "source": []
  }
 ],
 "metadata": {
  "kernelspec": {
   "display_name": "Python 3",
   "language": "python",
   "name": "python3"
  },
  "language_info": {
   "codemirror_mode": {
    "name": "ipython",
    "version": 3
   },
   "file_extension": ".py",
   "mimetype": "text/x-python",
   "name": "python",
   "nbconvert_exporter": "python",
   "pygments_lexer": "ipython3",
   "version": "3.7.4"
  }
 },
 "nbformat": 4,
 "nbformat_minor": 5
}
