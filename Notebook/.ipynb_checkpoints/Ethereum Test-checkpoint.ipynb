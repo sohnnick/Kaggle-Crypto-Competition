{
 "cells": [
  {
   "cell_type": "code",
   "execution_count": 3,
   "id": "61b5f3f2",
   "metadata": {},
   "outputs": [],
   "source": [
    "import xgboost as xgb\n",
    "import pandas as pd\n",
    "import numpy as np\n",
    "from sklearn.model_selection import GridSearchCV\n",
    "from sklearn.metrics import mean_squared_error\n",
    "from sklearn.preprocessing import MinMaxScaler\n",
    "from scipy.stats import pearsonr"
   ]
  },
  {
   "cell_type": "code",
   "execution_count": 2,
   "id": "263a7852",
   "metadata": {},
   "outputs": [],
   "source": [
    "# import sys\n",
    "# sys.path.append('g-research-crypto-forecasting')\n",
    "# import gresearch_crypto"
   ]
  },
  {
   "cell_type": "code",
   "execution_count": 3,
   "id": "1a277676",
   "metadata": {},
   "outputs": [],
   "source": [
    "# from ctypes import cdll\n",
    "# gresearch_crypto =cdll.LoadLibrary('../gresearch_crypto/competition.cpython-37m-x86_64-linux-gnu.so')"
   ]
  },
  {
   "cell_type": "markdown",
   "id": "dca9aed7",
   "metadata": {},
   "source": [
    "# <span style='color:blue'>Read In Data</span>"
   ]
  },
  {
   "cell_type": "code",
   "execution_count": 4,
   "id": "e065c265",
   "metadata": {},
   "outputs": [],
   "source": [
    "df_ethereum = pd.read_csv('../Data/partitioned_coins/Ethereum.csv').drop('Unnamed: 0', axis=1)"
   ]
  },
  {
   "cell_type": "code",
   "execution_count": 5,
   "id": "4496f087",
   "metadata": {},
   "outputs": [
    {
     "data": {
      "text/html": [
       "<div>\n",
       "<style scoped>\n",
       "    .dataframe tbody tr th:only-of-type {\n",
       "        vertical-align: middle;\n",
       "    }\n",
       "\n",
       "    .dataframe tbody tr th {\n",
       "        vertical-align: top;\n",
       "    }\n",
       "\n",
       "    .dataframe thead th {\n",
       "        text-align: right;\n",
       "    }\n",
       "</style>\n",
       "<table border=\"1\" class=\"dataframe\">\n",
       "  <thead>\n",
       "    <tr style=\"text-align: right;\">\n",
       "      <th></th>\n",
       "      <th>timestamp</th>\n",
       "      <th>Asset_ID</th>\n",
       "      <th>Count</th>\n",
       "      <th>Open</th>\n",
       "      <th>High</th>\n",
       "      <th>Low</th>\n",
       "      <th>Close</th>\n",
       "      <th>Volume</th>\n",
       "      <th>VWAP</th>\n",
       "      <th>Target</th>\n",
       "      <th>Datetime</th>\n",
       "    </tr>\n",
       "  </thead>\n",
       "  <tbody>\n",
       "    <tr>\n",
       "      <th>0</th>\n",
       "      <td>1514764860</td>\n",
       "      <td>6</td>\n",
       "      <td>173.0</td>\n",
       "      <td>738.3025</td>\n",
       "      <td>746.00</td>\n",
       "      <td>732.51</td>\n",
       "      <td>738.5075</td>\n",
       "      <td>335.987856</td>\n",
       "      <td>738.839291</td>\n",
       "      <td>-0.004809</td>\n",
       "      <td>2017-12-31 16:01:00</td>\n",
       "    </tr>\n",
       "    <tr>\n",
       "      <th>1</th>\n",
       "      <td>1514764920</td>\n",
       "      <td>6</td>\n",
       "      <td>192.0</td>\n",
       "      <td>738.5075</td>\n",
       "      <td>745.14</td>\n",
       "      <td>732.49</td>\n",
       "      <td>738.2600</td>\n",
       "      <td>232.793141</td>\n",
       "      <td>738.268967</td>\n",
       "      <td>-0.004441</td>\n",
       "      <td>2017-12-31 16:02:00</td>\n",
       "    </tr>\n",
       "    <tr>\n",
       "      <th>2</th>\n",
       "      <td>1514764980</td>\n",
       "      <td>6</td>\n",
       "      <td>120.0</td>\n",
       "      <td>738.3325</td>\n",
       "      <td>745.12</td>\n",
       "      <td>730.00</td>\n",
       "      <td>737.5025</td>\n",
       "      <td>174.138031</td>\n",
       "      <td>737.994457</td>\n",
       "      <td>-0.004206</td>\n",
       "      <td>2017-12-31 16:03:00</td>\n",
       "    </tr>\n",
       "  </tbody>\n",
       "</table>\n",
       "</div>"
      ],
      "text/plain": [
       "    timestamp  Asset_ID  Count      Open    High     Low     Close  \\\n",
       "0  1514764860         6  173.0  738.3025  746.00  732.51  738.5075   \n",
       "1  1514764920         6  192.0  738.5075  745.14  732.49  738.2600   \n",
       "2  1514764980         6  120.0  738.3325  745.12  730.00  737.5025   \n",
       "\n",
       "       Volume        VWAP    Target             Datetime  \n",
       "0  335.987856  738.839291 -0.004809  2017-12-31 16:01:00  \n",
       "1  232.793141  738.268967 -0.004441  2017-12-31 16:02:00  \n",
       "2  174.138031  737.994457 -0.004206  2017-12-31 16:03:00  "
      ]
     },
     "execution_count": 5,
     "metadata": {},
     "output_type": "execute_result"
    }
   ],
   "source": [
    "df_ethereum.head(3)"
   ]
  },
  {
   "cell_type": "markdown",
   "id": "9e99498e",
   "metadata": {},
   "source": [
    "# <span style='color:blue'>Train-Test Split</span>"
   ]
  },
  {
   "cell_type": "code",
   "execution_count": 6,
   "id": "7413e842",
   "metadata": {},
   "outputs": [],
   "source": [
    "# remove all null\n",
    "df_ethereum = df_ethereum[df_ethereum['Target'].notnull()]"
   ]
  },
  {
   "cell_type": "code",
   "execution_count": 7,
   "id": "71d0aed2",
   "metadata": {},
   "outputs": [],
   "source": [
    "df_reduced = df_ethereum[len(df_ethereum)-8000:]\n",
    "\n",
    "len_df = len(df_reduced)\n",
    "thresh = int(np.ceil(len_df)*.7)\n",
    "\n",
    "# train\n",
    "x_train = df_reduced[:thresh][['Open', 'Close', 'High', 'Low', 'Volume', 'VWAP']]\n",
    "y_train = np.array(df_reduced[:thresh]['Target']).reshape(-1,1)\n",
    "\n",
    "# test\n",
    "x_test = df_reduced[thresh:][['Open', 'Close', 'High', 'Low', 'Volume', 'VWAP']]\n",
    "y_test = np.array(df_reduced[thresh:]['Target']).reshape(-1,1)"
   ]
  },
  {
   "cell_type": "markdown",
   "id": "b7548e14",
   "metadata": {},
   "source": [
    "# <span style='color:blue'>Scale Output</span>"
   ]
  },
  {
   "cell_type": "code",
   "execution_count": 8,
   "id": "9eb7739a",
   "metadata": {},
   "outputs": [],
   "source": [
    "scaler = MinMaxScaler()\n",
    "\n",
    "y_train_scaled = scaler.fit_transform(y_train)\n",
    "\n",
    "y_test_scaled = scaler.transform(y_test)"
   ]
  },
  {
   "cell_type": "markdown",
   "id": "43f3ca10",
   "metadata": {},
   "source": [
    "# <span style='color:blue'>Model Training</span>"
   ]
  },
  {
   "cell_type": "code",
   "execution_count": 12,
   "id": "6d5e7a21",
   "metadata": {},
   "outputs": [],
   "source": [
    "xgb_reg = xgb.XGBRegressor(objective= \"reg:squarederror\")"
   ]
  },
  {
   "cell_type": "markdown",
   "id": "bbf406af",
   "metadata": {},
   "source": [
    "### Baseline Model"
   ]
  },
  {
   "cell_type": "code",
   "execution_count": 23,
   "id": "4683a417",
   "metadata": {},
   "outputs": [
    {
     "data": {
      "text/plain": [
       "XGBRegressor(base_score=0.5, booster='gbtree', colsample_bylevel=1,\n",
       "             colsample_bynode=1, colsample_bytree=1, gamma=0, gpu_id=-1,\n",
       "             importance_type='gain', interaction_constraints='',\n",
       "             learning_rate=0.300000012, max_delta_step=0, max_depth=6,\n",
       "             min_child_weight=1, missing=nan, monotone_constraints='()',\n",
       "             n_estimators=100, n_jobs=4, num_parallel_tree=1, random_state=0,\n",
       "             reg_alpha=0, reg_lambda=1, scale_pos_weight=1, subsample=1,\n",
       "             tree_method='exact', validate_parameters=1, verbosity=None)"
      ]
     },
     "execution_count": 23,
     "metadata": {},
     "output_type": "execute_result"
    }
   ],
   "source": [
    "xgb_reg.fit(x_train, y_train_scaled)"
   ]
  },
  {
   "cell_type": "code",
   "execution_count": 24,
   "id": "2576da3f",
   "metadata": {},
   "outputs": [],
   "source": [
    "predictions = xgb_reg.predict(x_test)"
   ]
  },
  {
   "cell_type": "code",
   "execution_count": 25,
   "id": "db927dde",
   "metadata": {},
   "outputs": [],
   "source": [
    "predictions = scaler.inverse_transform(predictions.reshape(-1,1))"
   ]
  },
  {
   "cell_type": "code",
   "execution_count": 26,
   "id": "e5ccc8c3",
   "metadata": {},
   "outputs": [
    {
     "data": {
      "text/plain": [
       "0.0018283844101351927"
      ]
     },
     "execution_count": 26,
     "metadata": {},
     "output_type": "execute_result"
    }
   ],
   "source": [
    "np.sqrt(mean_squared_error(predictions, y_test))"
   ]
  },
  {
   "cell_type": "markdown",
   "id": "6831c812",
   "metadata": {},
   "source": [
    "### Tuned Model"
   ]
  },
  {
   "cell_type": "code",
   "execution_count": 13,
   "id": "83057280",
   "metadata": {},
   "outputs": [],
   "source": [
    "parameters = {\n",
    "    'colsample_bytree': [0.3, 0.7],\n",
    "    'learning_rate': [0.01, 0.1, 0.2, 0.5],\n",
    "    'n_estimators': [100],\n",
    "    'subsample': [0.2, 0.5, 0.8],\n",
    "    'max_depth': [2, 3, 5]\n",
    "}"
   ]
  },
  {
   "cell_type": "code",
   "execution_count": 14,
   "id": "a7bb2d38",
   "metadata": {},
   "outputs": [],
   "source": [
    "gridsearch = GridSearchCV(estimator=xgb_reg, param_grid=parameters, scoring='neg_mean_squared_error',\n",
    "                    cv=5, n_jobs=-1)"
   ]
  },
  {
   "cell_type": "code",
   "execution_count": 15,
   "id": "d9adf169",
   "metadata": {},
   "outputs": [
    {
     "data": {
      "text/plain": [
       "GridSearchCV(cv=5,\n",
       "             estimator=XGBRegressor(base_score=None, booster=None,\n",
       "                                    colsample_bylevel=None,\n",
       "                                    colsample_bynode=None,\n",
       "                                    colsample_bytree=None, gamma=None,\n",
       "                                    gpu_id=None, importance_type='gain',\n",
       "                                    interaction_constraints=None,\n",
       "                                    learning_rate=None, max_delta_step=None,\n",
       "                                    max_depth=None, min_child_weight=None,\n",
       "                                    missing=nan, monotone_constraints=None,\n",
       "                                    n_estimators=100, n_jobs=...\n",
       "                                    num_parallel_tree=None, random_state=None,\n",
       "                                    reg_alpha=None, reg_lambda=None,\n",
       "                                    scale_pos_weight=None, subsample=None,\n",
       "                                    tree_method=None, validate_parameters=None,\n",
       "                                    verbosity=None),\n",
       "             n_jobs=-1,\n",
       "             param_grid={'colsample_bytree': [0.3, 0.7],\n",
       "                         'learning_rate': [0.01, 0.1, 0.2, 0.5],\n",
       "                         'max_depth': [2, 3, 5], 'n_estimators': [100],\n",
       "                         'subsample': [0.2, 0.5, 0.8]},\n",
       "             scoring='neg_mean_squared_error')"
      ]
     },
     "execution_count": 15,
     "metadata": {},
     "output_type": "execute_result"
    }
   ],
   "source": [
    "gridsearch.fit(x_train, y_train)"
   ]
  },
  {
   "cell_type": "code",
   "execution_count": 16,
   "id": "d730265c",
   "metadata": {},
   "outputs": [],
   "source": [
    "predictions = gridsearch.predict(x_test)"
   ]
  },
  {
   "cell_type": "code",
   "execution_count": 17,
   "id": "b25c908c",
   "metadata": {},
   "outputs": [
    {
     "data": {
      "text/plain": [
       "0.001694561367769246"
      ]
     },
     "execution_count": 17,
     "metadata": {},
     "output_type": "execute_result"
    }
   ],
   "source": [
    "np.sqrt(mean_squared_error(predictions, y_test))"
   ]
  },
  {
   "cell_type": "code",
   "execution_count": null,
   "id": "5d9b12b4",
   "metadata": {},
   "outputs": [],
   "source": []
  }
 ],
 "metadata": {
  "kernelspec": {
   "display_name": "Python 3",
   "language": "python",
   "name": "python3"
  },
  "language_info": {
   "codemirror_mode": {
    "name": "ipython",
    "version": 3
   },
   "file_extension": ".py",
   "mimetype": "text/x-python",
   "name": "python",
   "nbconvert_exporter": "python",
   "pygments_lexer": "ipython3",
   "version": "3.7.4"
  }
 },
 "nbformat": 4,
 "nbformat_minor": 5
}
